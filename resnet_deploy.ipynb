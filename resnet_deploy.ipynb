{
 "cells": [
  {
   "cell_type": "code",
   "execution_count": 16,
   "id": "9b4afdbd-0244-474d-87d2-fe7d670af395",
   "metadata": {},
   "outputs": [
    {
     "name": "stdout",
     "output_type": "stream",
     "text": [
      "Model compressed to: /home/ec2-user/SageMaker/best_resnet_model.tar.gz\n",
      "Compressed model uploaded to: s3://smwu-cv-team-4/Resnet_model/best_resnet_model.tar.gz\n"
     ]
    }
   ],
   "source": [
    "import os\n",
    "import tarfile\n",
    "import boto3\n",
    "\n",
    "# 로컬 모델 파일 경로 및 S3 경로 설정\n",
    "local_model_path = \"/home/ec2-user/SageMaker/best_resnet_ngok_recall3.pth\"\n",
    "compressed_model_path = \"/home/ec2-user/SageMaker/best_resnet_model.tar.gz\"\n",
    "bucket_name = \"smwu-cv-team-4\"  # S3 버킷 이름\n",
    "s3_model_key = \"Resnet_model/best_resnet_model.tar.gz\"\n",
    "s3_model_path = f\"s3://{bucket_name}/{s3_model_key}\"\n",
    "\n",
    "# 모델 파일을 TAR.GZ로 압축\n",
    "with tarfile.open(compressed_model_path, \"w:gz\") as tar:\n",
    "    tar.add(local_model_path, arcname=\"model.pth\")\n",
    "print(f\"Model compressed to: {compressed_model_path}\")\n",
    "\n",
    "# S3에 업로드\n",
    "s3 = boto3.client(\"s3\")\n",
    "s3.upload_file(compressed_model_path, bucket_name, s3_model_key)\n",
    "print(f\"Compressed model uploaded to: {s3_model_path}\")\n"
   ]
  },
  {
   "cell_type": "code",
   "execution_count": 14,
   "id": "a2fa574f-f015-48ac-b639-6bfbdf4a5283",
   "metadata": {},
   "outputs": [
    {
     "name": "stdout",
     "output_type": "stream",
     "text": [
      "------!Endpoint deployed successfully.\n"
     ]
    }
   ],
   "source": [
    "from sagemaker.pytorch import PyTorchModel\n",
    "import sagemaker\n",
    "\n",
    "# SageMaker 세션 및 역할\n",
    "sagemaker_session = sagemaker.Session()\n",
    "role = sagemaker.get_execution_role()\n",
    "\n",
    "# SageMaker 모델 생성\n",
    "model = PyTorchModel(\n",
    "    model_data=s3_model_path,  # 압축된 S3 경로\n",
    "    role=role,\n",
    "    entry_point=\"inference.py\",  # 추론 스크립트 경로\n",
    "    framework_version=\"1.12\",  # PyTorch 버전\n",
    "    py_version=\"py38\",\n",
    "    sagemaker_session=sagemaker_session,\n",
    ")\n",
    "\n",
    "# 엔드포인트 배포\n",
    "predictor = model.deploy(\n",
    "    initial_instance_count=1,\n",
    "    instance_type=\"ml.m5.large\",  # 인스턴스 유형\n",
    "    endpoint_name=\"team4-resnet-endpoint\",  # 엔드포인트 이름\n",
    ")\n",
    "\n",
    "print(\"Endpoint deployed successfully.\")\n"
   ]
  },
  {
   "cell_type": "code",
   "execution_count": 3,
   "id": "1c54fdaf-f639-43ae-8e87-4d0d37945ea4",
   "metadata": {},
   "outputs": [
    {
     "name": "stdout",
     "output_type": "stream",
     "text": [
      "현재 작업 디렉토리: /home/ec2-user/SageMaker\n"
     ]
    }
   ],
   "source": [
    "import os\n",
    "\n",
    "# 현재 작업 디렉토리 확인\n",
    "current_directory = os.getcwd()\n",
    "print(f\"현재 작업 디렉토리: {current_directory}\")\n"
   ]
  },
  {
   "cell_type": "code",
   "execution_count": 4,
   "id": "40e25b8c-dbad-43d2-a6a9-b6b2e447b8dc",
   "metadata": {},
   "outputs": [
    {
     "name": "stdout",
     "output_type": "stream",
     "text": [
      "True\n"
     ]
    }
   ],
   "source": [
    "import os\n",
    "print(os.path.exists(\"/home/ec2-user/SageMaker/best_resnet_ngok_recall3.pth\"))\n"
   ]
  },
  {
   "cell_type": "code",
   "execution_count": 5,
   "id": "907fd54c-2f8a-49c9-b565-583a25e90316",
   "metadata": {},
   "outputs": [
    {
     "name": "stdout",
     "output_type": "stream",
     "text": [
      "True\n"
     ]
    }
   ],
   "source": [
    "print(os.path.exists(\"inference.py\"))\n"
   ]
  },
  {
   "cell_type": "code",
   "execution_count": 3,
   "id": "6e799598-1c38-4a3e-9c52-82b160a35566",
   "metadata": {},
   "outputs": [],
   "source": [
    "import json\n",
    "import base64\n",
    "\n",
    "# 테스트 이미지 읽기\n",
    "with open(\"tofu_0003.jpg\", \"rb\") as f:\n",
    "    image_bytes = f.read()\n",
    "\n",
    "# JSON 데이터 생성\n",
    "input_data = {\"image\": base64.b64encode(image_bytes).decode()}\n",
    "\n",
    "# JSON 형식으로 저장\n",
    "with open(\"test_input.json\", \"w\") as f:\n",
    "    json.dump(input_data, f)\n",
    "\n"
   ]
  },
  {
   "cell_type": "code",
   "execution_count": null,
   "id": "06cf6828-2ed4-43d3-b98d-2d22ccae8dba",
   "metadata": {},
   "outputs": [],
   "source": [
    "import json\n",
    "import boto3\n",
    "\n",
    "\n",
    "# 엔드포인트 호출\n",
    "client = boto3.client(\"sagemaker-runtime\")\n",
    "response = client.invoke_endpoint(\n",
    "    EndpointName=\"team4-resnet-endpoint\",\n",
    "    ContentType=\"application/json\",\n",
    "    Body=json.dumps(input_data)  # JSON 직렬화된 데이터\n",
    ")\n",
    "\n",
    "# 결과 출력\n",
    "result = json.loads(response[\"Body\"].read().decode())\n",
    "print(json.dumps(result, indent=4))\n"
   ]
  },
  {
   "cell_type": "code",
   "execution_count": null,
   "id": "dbb22bdb-5ddb-45b2-b80f-2dd607c7b272",
   "metadata": {},
   "outputs": [],
   "source": []
  }
 ],
 "metadata": {
  "kernelspec": {
   "display_name": "conda_python3",
   "language": "python",
   "name": "conda_python3"
  },
  "language_info": {
   "codemirror_mode": {
    "name": "ipython",
    "version": 3
   },
   "file_extension": ".py",
   "mimetype": "text/x-python",
   "name": "python",
   "nbconvert_exporter": "python",
   "pygments_lexer": "ipython3",
   "version": "3.10.15"
  }
 },
 "nbformat": 4,
 "nbformat_minor": 5
}
